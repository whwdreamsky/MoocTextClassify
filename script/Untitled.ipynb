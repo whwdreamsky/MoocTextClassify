{
 "cells": [
  {
   "cell_type": "code",
   "execution_count": 1,
   "metadata": {},
   "outputs": [
    {
     "name": "stderr",
     "output_type": "stream",
     "text": [
      "/Users/oliver/miniconda3/envs/tensorflow/lib/python3.6/site-packages/h5py/__init__.py:36: FutureWarning: Conversion of the second argument of issubdtype from `float` to `np.floating` is deprecated. In future, it will be treated as `np.float64 == np.dtype(float).type`.\n",
      "  from ._conv import register_converters as _register_converters\n",
      "Using TensorFlow backend.\n"
     ]
    }
   ],
   "source": [
    "import pandas as pd\n",
    "from keras.preprocessing.text import Tokenizer\n",
    "from tools import load_data"
   ]
  },
  {
   "cell_type": "code",
   "execution_count": 3,
   "metadata": {},
   "outputs": [],
   "source": [
    "data = pd.read_csv(\"../data/train_bettle/relation.txt\",sep='\\t',header=None,names=[\"question\",\"response\",\"answer\",\"label\"])"
   ]
  },
  {
   "cell_type": "code",
   "execution_count": 19,
   "metadata": {},
   "outputs": [],
   "source": [
    "text_uniq = [str(item) for item in data['value']]\n",
    "tk = Tokenizer()\n",
    "tk.fit_on_texts(text_uniq)"
   ]
  },
  {
   "cell_type": "code",
   "execution_count": 20,
   "metadata": {},
   "outputs": [
    {
     "data": {
      "text/plain": [
       "'terminal 1 positive terminal separated gap'"
      ]
     },
     "execution_count": 20,
     "metadata": {},
     "output_type": "execute_result"
    }
   ],
   "source": [
    "text_uniq[0]"
   ]
  },
  {
   "cell_type": "code",
   "execution_count": 21,
   "metadata": {},
   "outputs": [
    {
     "data": {
      "text/plain": [
       "[[4, 19, 10, 4, 38, 6]]"
      ]
     },
     "execution_count": 21,
     "metadata": {},
     "output_type": "execute_result"
    }
   ],
   "source": [
    "tk.texts_to_sequences([text_uniq[0]])"
   ]
  },
  {
   "cell_type": "code",
   "execution_count": 27,
   "metadata": {},
   "outputs": [
    {
     "data": {
      "text/plain": [
       "dict"
      ]
     },
     "execution_count": 27,
     "metadata": {},
     "output_type": "execute_result"
    }
   ],
   "source": [
    "worddict = tk.word_index\n",
    "type(worddict)"
   ]
  },
  {
   "cell_type": "code",
   "execution_count": 28,
   "metadata": {},
   "outputs": [],
   "source": [
    "tk2 = Tokenizer()\n",
    "tk2.word_index = worddict"
   ]
  },
  {
   "cell_type": "code",
   "execution_count": 6,
   "metadata": {},
   "outputs": [
    {
     "data": {
      "text/plain": [
       "0       answer204 answer205 answer206 answer207 answer...\n",
       "1       answer204 answer205 answer206 answer207 answer...\n",
       "2       answer204 answer205 answer206 answer207 answer...\n",
       "3       answer204 answer205 answer206 answer207 answer...\n",
       "4       answer204 answer205 answer206 answer207 answer...\n",
       "5       answer204 answer205 answer206 answer207 answer...\n",
       "6       answer204 answer205 answer206 answer207 answer...\n",
       "7       answer204 answer205 answer206 answer207 answer...\n",
       "8       answer204 answer205 answer206 answer207 answer...\n",
       "9       answer204 answer205 answer206 answer207 answer...\n",
       "10      answer204 answer205 answer206 answer207 answer...\n",
       "11      answer204 answer205 answer206 answer207 answer...\n",
       "12      answer204 answer205 answer206 answer207 answer...\n",
       "13      answer204 answer205 answer206 answer207 answer...\n",
       "14      answer204 answer205 answer206 answer207 answer...\n",
       "15      answer204 answer205 answer206 answer207 answer...\n",
       "16      answer204 answer205 answer206 answer207 answer...\n",
       "17      answer204 answer205 answer206 answer207 answer...\n",
       "18      answer204 answer205 answer206 answer207 answer...\n",
       "19      answer204 answer205 answer206 answer207 answer...\n",
       "20      answer204 answer205 answer206 answer207 answer...\n",
       "21      answer204 answer205 answer206 answer207 answer...\n",
       "22      answer204 answer205 answer206 answer207 answer...\n",
       "23      answer204 answer205 answer206 answer207 answer...\n",
       "24      answer204 answer205 answer206 answer207 answer...\n",
       "25      answer204 answer205 answer206 answer207 answer...\n",
       "26      answer204 answer205 answer206 answer207 answer...\n",
       "27      answer204 answer205 answer206 answer207 answer...\n",
       "28      answer204 answer205 answer206 answer207 answer...\n",
       "29      answer204 answer205 answer206 answer207 answer...\n",
       "                              ...                        \n",
       "3911    answer46 answer47 answer48 answer49 answer51 a...\n",
       "3912    answer46 answer47 answer48 answer49 answer51 a...\n",
       "3913    answer46 answer47 answer48 answer49 answer51 a...\n",
       "3914    answer46 answer47 answer48 answer49 answer51 a...\n",
       "3915    answer46 answer47 answer48 answer49 answer51 a...\n",
       "3916    answer46 answer47 answer48 answer49 answer51 a...\n",
       "3917    answer46 answer47 answer48 answer49 answer51 a...\n",
       "3918    answer46 answer47 answer48 answer49 answer51 a...\n",
       "3919    answer46 answer47 answer48 answer49 answer51 a...\n",
       "3920    answer46 answer47 answer48 answer49 answer51 a...\n",
       "3921    answer46 answer47 answer48 answer49 answer51 a...\n",
       "3922    answer46 answer47 answer48 answer49 answer51 a...\n",
       "3923    answer46 answer47 answer48 answer49 answer51 a...\n",
       "3924    answer46 answer47 answer48 answer49 answer51 a...\n",
       "3925    answer46 answer47 answer48 answer49 answer51 a...\n",
       "3926    answer46 answer47 answer48 answer49 answer51 a...\n",
       "3927    answer46 answer47 answer48 answer49 answer51 a...\n",
       "3928    answer46 answer47 answer48 answer49 answer51 a...\n",
       "3929    answer46 answer47 answer48 answer49 answer51 a...\n",
       "3930    answer46 answer47 answer48 answer49 answer51 a...\n",
       "3931    answer46 answer47 answer48 answer49 answer51 a...\n",
       "3932    answer46 answer47 answer48 answer49 answer51 a...\n",
       "3933    answer46 answer47 answer48 answer49 answer51 a...\n",
       "3934    answer46 answer47 answer48 answer49 answer51 a...\n",
       "3935    answer46 answer47 answer48 answer49 answer51 a...\n",
       "3936    answer46 answer47 answer48 answer49 answer51 a...\n",
       "3937    answer46 answer47 answer48 answer49 answer51 a...\n",
       "3938    answer46 answer47 answer48 answer49 answer51 a...\n",
       "3939    answer46 answer47 answer48 answer49 answer51 a...\n",
       "3940    answer46 answer47 answer48 answer49 answer51 a...\n",
       "Name: answer, Length: 3941, dtype: object"
      ]
     },
     "execution_count": 6,
     "metadata": {},
     "output_type": "execute_result"
    }
   ],
   "source": [
    "#tk2.texts_to_sequences([text_uniq[0]])\n",
    "data['answer']"
   ]
  },
  {
   "cell_type": "code",
   "execution_count": 2,
   "metadata": {},
   "outputs": [
    {
     "ename": "KeyError",
     "evalue": "nan",
     "output_type": "error",
     "traceback": [
      "\u001b[0;31m---------------------------------------------------------------------------\u001b[0m",
      "\u001b[0;31mKeyError\u001b[0m                                  Traceback (most recent call last)",
      "\u001b[0;32m<ipython-input-2-de91858feeaf>\u001b[0m in \u001b[0;36m<module>\u001b[0;34m()\u001b[0m\n\u001b[0;32m----> 1\u001b[0;31m \u001b[0mx_train\u001b[0m\u001b[0;34m,\u001b[0m\u001b[0my_train\u001b[0m\u001b[0;34m,\u001b[0m\u001b[0mx_test\u001b[0m\u001b[0;34m,\u001b[0m\u001b[0my_test\u001b[0m\u001b[0;34m,\u001b[0m\u001b[0mdictionary_inv\u001b[0m \u001b[0;34m=\u001b[0m \u001b[0mload_data\u001b[0m\u001b[0;34m(\u001b[0m\u001b[0;34m\"../data/train_bettle/index_simple_token.txt\"\u001b[0m\u001b[0;34m,\u001b[0m\u001b[0;34m\"../data/train_bettle/relation.txt\"\u001b[0m\u001b[0;34m,\u001b[0m\u001b[0;34m\"../data/word.txt\"\u001b[0m\u001b[0;34m,\u001b[0m\u001b[0;34m\"../data/test_bettle/ua_index_query.txt\"\u001b[0m\u001b[0;34m,\u001b[0m\u001b[0;34m\"../data/test_bettle/ua_relation.txt\"\u001b[0m\u001b[0;34m,\u001b[0m\u001b[0mlabeltype\u001b[0m\u001b[0;34m=\u001b[0m\u001b[0;34m\"5way\"\u001b[0m\u001b[0;34m)\u001b[0m\u001b[0;34m\u001b[0m\u001b[0m\n\u001b[0m",
      "\u001b[0;32m~/workplace/project/MoocTextClassify/script/tools.py\u001b[0m in \u001b[0;36mload_data\u001b[0;34m(train_index_file, train_relation_file, test_index_file, test_relation_file, word_dict_file, labeltype, sentence_maxlen1, sentence_maxlen2)\u001b[0m\n\u001b[1;32m     25\u001b[0m \u001b[0;34m\u001b[0m\u001b[0m\n\u001b[1;32m     26\u001b[0m     \u001b[0mx_train\u001b[0m\u001b[0;34m,\u001b[0m\u001b[0my_train\u001b[0m \u001b[0;34m=\u001b[0m \u001b[0mload_data_fromfile\u001b[0m\u001b[0;34m(\u001b[0m\u001b[0mtrain_index_file\u001b[0m\u001b[0;34m,\u001b[0m\u001b[0mtrain_relation_file\u001b[0m\u001b[0;34m,\u001b[0m\u001b[0mword_dict\u001b[0m\u001b[0;34m,\u001b[0m\u001b[0mlabeltype\u001b[0m\u001b[0;34m,\u001b[0m\u001b[0msentence_maxlen1\u001b[0m\u001b[0;34m,\u001b[0m\u001b[0msentence_maxlen2\u001b[0m\u001b[0;34m)\u001b[0m\u001b[0;34m\u001b[0m\u001b[0m\n\u001b[0;32m---> 27\u001b[0;31m     \u001b[0mx_test\u001b[0m\u001b[0;34m,\u001b[0m\u001b[0my_test\u001b[0m \u001b[0;34m=\u001b[0m \u001b[0mload_data_fromfile\u001b[0m\u001b[0;34m(\u001b[0m\u001b[0mtest_index_file\u001b[0m\u001b[0;34m,\u001b[0m\u001b[0mtest_relation_file\u001b[0m\u001b[0;34m,\u001b[0m\u001b[0mword_dict\u001b[0m\u001b[0;34m,\u001b[0m\u001b[0mlabeltype\u001b[0m\u001b[0;34m,\u001b[0m\u001b[0msentence_maxlen1\u001b[0m\u001b[0;34m,\u001b[0m\u001b[0msentence_maxlen2\u001b[0m\u001b[0;34m)\u001b[0m\u001b[0;34m\u001b[0m\u001b[0m\n\u001b[0m\u001b[1;32m     28\u001b[0m     \u001b[0;32mreturn\u001b[0m \u001b[0mx_train\u001b[0m\u001b[0;34m,\u001b[0m\u001b[0my_train\u001b[0m\u001b[0;34m,\u001b[0m\u001b[0mx_test\u001b[0m\u001b[0;34m,\u001b[0m\u001b[0my_test\u001b[0m\u001b[0;34m,\u001b[0m\u001b[0mword_dict_inverse\u001b[0m\u001b[0;34m\u001b[0m\u001b[0m\n\u001b[1;32m     29\u001b[0m \u001b[0;34m\u001b[0m\u001b[0m\n",
      "\u001b[0;32m~/workplace/project/MoocTextClassify/script/tools.py\u001b[0m in \u001b[0;36mload_data_fromfile\u001b[0;34m(index_file, relation_file, word_dict, labeltype, sentence_maxlen1, sentence_maxlen2)\u001b[0m\n\u001b[1;32m     51\u001b[0m         \u001b[0my_lable\u001b[0m \u001b[0;34m=\u001b[0m \u001b[0my_twoway\u001b[0m\u001b[0;34m\u001b[0m\u001b[0m\n\u001b[1;32m     52\u001b[0m     \u001b[0;32melse\u001b[0m\u001b[0;34m:\u001b[0m\u001b[0;34m\u001b[0m\u001b[0m\n\u001b[0;32m---> 53\u001b[0;31m         \u001b[0my_lable\u001b[0m \u001b[0;34m=\u001b[0m \u001b[0;34m[\u001b[0m\u001b[0mlabledict\u001b[0m\u001b[0;34m[\u001b[0m\u001b[0mlabel\u001b[0m\u001b[0;34m]\u001b[0m \u001b[0;32mfor\u001b[0m \u001b[0mlabel\u001b[0m \u001b[0;32min\u001b[0m \u001b[0my_lable\u001b[0m\u001b[0;34m]\u001b[0m\u001b[0;34m\u001b[0m\u001b[0m\n\u001b[0m\u001b[1;32m     54\u001b[0m     \u001b[0mtext_uniq\u001b[0m \u001b[0;34m=\u001b[0m \u001b[0;34m[\u001b[0m\u001b[0mstr\u001b[0m\u001b[0;34m(\u001b[0m\u001b[0mitem\u001b[0m\u001b[0;34m)\u001b[0m \u001b[0;32mfor\u001b[0m \u001b[0mitem\u001b[0m \u001b[0;32min\u001b[0m \u001b[0mlist\u001b[0m\u001b[0;34m(\u001b[0m\u001b[0mindex_data\u001b[0m\u001b[0;34m[\u001b[0m\u001b[0;34m\"value\"\u001b[0m\u001b[0;34m]\u001b[0m\u001b[0;34m)\u001b[0m\u001b[0;34m]\u001b[0m\u001b[0;34m\u001b[0m\u001b[0m\n\u001b[1;32m     55\u001b[0m     \u001b[0mrefer\u001b[0m \u001b[0;34m=\u001b[0m \u001b[0;34m[\u001b[0m\u001b[0;34m]\u001b[0m\u001b[0;34m\u001b[0m\u001b[0m\n",
      "\u001b[0;32m~/workplace/project/MoocTextClassify/script/tools.py\u001b[0m in \u001b[0;36m<listcomp>\u001b[0;34m(.0)\u001b[0m\n\u001b[1;32m     51\u001b[0m         \u001b[0my_lable\u001b[0m \u001b[0;34m=\u001b[0m \u001b[0my_twoway\u001b[0m\u001b[0;34m\u001b[0m\u001b[0m\n\u001b[1;32m     52\u001b[0m     \u001b[0;32melse\u001b[0m\u001b[0;34m:\u001b[0m\u001b[0;34m\u001b[0m\u001b[0m\n\u001b[0;32m---> 53\u001b[0;31m         \u001b[0my_lable\u001b[0m \u001b[0;34m=\u001b[0m \u001b[0;34m[\u001b[0m\u001b[0mlabledict\u001b[0m\u001b[0;34m[\u001b[0m\u001b[0mlabel\u001b[0m\u001b[0;34m]\u001b[0m \u001b[0;32mfor\u001b[0m \u001b[0mlabel\u001b[0m \u001b[0;32min\u001b[0m \u001b[0my_lable\u001b[0m\u001b[0;34m]\u001b[0m\u001b[0;34m\u001b[0m\u001b[0m\n\u001b[0m\u001b[1;32m     54\u001b[0m     \u001b[0mtext_uniq\u001b[0m \u001b[0;34m=\u001b[0m \u001b[0;34m[\u001b[0m\u001b[0mstr\u001b[0m\u001b[0;34m(\u001b[0m\u001b[0mitem\u001b[0m\u001b[0;34m)\u001b[0m \u001b[0;32mfor\u001b[0m \u001b[0mitem\u001b[0m \u001b[0;32min\u001b[0m \u001b[0mlist\u001b[0m\u001b[0;34m(\u001b[0m\u001b[0mindex_data\u001b[0m\u001b[0;34m[\u001b[0m\u001b[0;34m\"value\"\u001b[0m\u001b[0;34m]\u001b[0m\u001b[0;34m)\u001b[0m\u001b[0;34m]\u001b[0m\u001b[0;34m\u001b[0m\u001b[0m\n\u001b[1;32m     55\u001b[0m     \u001b[0mrefer\u001b[0m \u001b[0;34m=\u001b[0m \u001b[0;34m[\u001b[0m\u001b[0;34m]\u001b[0m\u001b[0;34m\u001b[0m\u001b[0m\n",
      "\u001b[0;31mKeyError\u001b[0m: nan"
     ]
    }
   ],
   "source": [
    "x_train,y_train,x_test,y_test,dictionary_inv = load_data(\"../data/train_bettle/index_simple_token.txt\",\"../data/train_bettle/relation.txt\",\"../data/word.txt\",\"../data/test_bettle/ua_index_query.txt\",\"../data/test_bettle/ua_relation.txt\",labeltype=\"5way\")"
   ]
  },
  {
   "cell_type": "code",
   "execution_count": 4,
   "metadata": {},
   "outputs": [
    {
     "ename": "NameError",
     "evalue": "name 'x_train' is not defined",
     "output_type": "error",
     "traceback": [
      "\u001b[0;31m-----------------------------------------------------------------------\u001b[0m",
      "\u001b[0;31mNameError\u001b[0m                             Traceback (most recent call last)",
      "\u001b[0;32m<ipython-input-4-f5069c452ff8>\u001b[0m in \u001b[0;36m<module>\u001b[0;34m()\u001b[0m\n\u001b[0;32m----> 1\u001b[0;31m \u001b[0mx_train\u001b[0m\u001b[0;34m[\u001b[0m\u001b[0;36m1\u001b[0m\u001b[0;34m]\u001b[0m\u001b[0;34m\u001b[0m\u001b[0m\n\u001b[0m",
      "\u001b[0;31mNameError\u001b[0m: name 'x_train' is not defined"
     ]
    }
   ],
   "source": [
    "x_train[1]"
   ]
  },
  {
   "cell_type": "code",
   "execution_count": 38,
   "metadata": {},
   "outputs": [
    {
     "data": {
      "text/plain": [
       "True"
      ]
     },
     "execution_count": 38,
     "metadata": {},
     "output_type": "execute_result"
    }
   ],
   "source": [
    "\"a\" in worddict"
   ]
  },
  {
   "cell_type": "code",
   "execution_count": null,
   "metadata": {},
   "outputs": [],
   "source": []
  }
 ],
 "metadata": {
  "kernelspec": {
   "display_name": "Python [conda env:tensorflow]",
   "language": "python",
   "name": "conda-env-tensorflow-py"
  },
  "language_info": {
   "codemirror_mode": {
    "name": "ipython",
    "version": 3
   },
   "file_extension": ".py",
   "mimetype": "text/x-python",
   "name": "python",
   "nbconvert_exporter": "python",
   "pygments_lexer": "ipython3",
   "version": "3.6.4"
  }
 },
 "nbformat": 4,
 "nbformat_minor": 2
}
